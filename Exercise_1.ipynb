{
 "cells": [
  {
   "cell_type": "markdown",
   "metadata": {},
   "source": [
    "# EXERCISE 1 - CHALLENGED AMADEUS: Count the number of lines in Python for each file"
   ]
  },
  {
   "cell_type": "markdown",
   "metadata": {},
   "source": [
    "## Solution:"
   ]
  },
  {
   "cell_type": "markdown",
   "metadata": {},
   "source": [
    "Descomprimimos el fichero de \"bookings\" y creamos uno comprimido con una muestra de 10000 registros:"
   ]
  },
  {
   "cell_type": "code",
   "execution_count": 6,
   "metadata": {},
   "outputs": [
    {
     "name": "stdout",
     "output_type": "stream",
     "text": [
      "\n",
      "bzcat: I/O or other error, bailing out.  Possible reason follows.\n",
      "bzcat: Broken pipe\n",
      "\tInput file = ./bookings.csv.bz2, output file = (stdout)\n",
      "Lines number:\n",
      "10000\n"
     ]
    }
   ],
   "source": [
    "! bzcat ./bookings.csv.bz2 | head -10000 > ./bookings.sample.csv\n",
    "\n",
    "! bzip2 -f ./bookings.sample.csv\n",
    "\n",
    "print('Lines number:')\n",
    "! bzcat ./bookings.sample.csv.bz2 | wc -l"
   ]
  },
  {
   "cell_type": "markdown",
   "metadata": {},
   "source": [
    "Descomprimimos el fichero de \"searches\" y creamos uno comprimido con una muestra de 10000 registros:"
   ]
  },
  {
   "cell_type": "code",
   "execution_count": 5,
   "metadata": {},
   "outputs": [
    {
     "name": "stdout",
     "output_type": "stream",
     "text": [
      "\n",
      "bzcat: I/O or other error, bailing out.  Possible reason follows.\n",
      "bzcat: Broken pipe\n",
      "\tInput file = ./searches.csv.bz2, output file = (stdout)\n",
      "Lines number:\n",
      "10000\n"
     ]
    }
   ],
   "source": [
    "! bzcat ./searches.csv.bz2 | head -10000 > ./searches.sample.csv\n",
    "\n",
    "! bzip2 -f ./searches.sample.csv\n",
    "\n",
    "print('Lines number:')\n",
    "! bzcat ./searches.sample.csv.bz2 | wc -l"
   ]
  }
 ],
 "metadata": {
  "kernelspec": {
   "display_name": "Python 3",
   "language": "python",
   "name": "python3"
  },
  "language_info": {
   "codemirror_mode": {
    "name": "ipython",
    "version": 3
   },
   "file_extension": ".py",
   "mimetype": "text/x-python",
   "name": "python",
   "nbconvert_exporter": "python",
   "pygments_lexer": "ipython3",
   "version": "3.7.4"
  }
 },
 "nbformat": 4,
 "nbformat_minor": 4
}
